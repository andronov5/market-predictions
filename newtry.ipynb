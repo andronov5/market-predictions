{
 "cells": [
  {
   "cell_type": "code",
   "execution_count": null,
   "id": "84263beb-49da-4c5e-94f4-c5bcb43d3ce3",
   "metadata": {},
   "outputs": [],
   "source": [
    "import datetime as dt\n",
    "from pathlib import Path\n",
    "import pandas as pd\n",
    "print(\"done\")"
   ]
  },
  {
   "cell_type": "code",
   "execution_count": null,
   "id": "6c5ca6ca-fee9-4c45-90e9-7cdd1cd69a66",
   "metadata": {},
   "outputs": [],
   "source": [
    "import warnings, logging\n",
    "warnings.filterwarnings(\"ignore\", category=UserWarning)\n",
    "warnings.filterwarnings(\"ignore\", category=FutureWarning)\n",
    "logging.getLogger(\"lightgbm\").setLevel(logging.ERROR)\n",
    "logging.getLogger(\"optuna\").setLevel(logging.WARNING)\n",
    "\n",
    "print(\"done\")"
   ]
  },
  {
   "cell_type": "code",
   "execution_count": null,
   "id": "d06160b1-6281-4450-ad31-63a8ce9abfb0",
   "metadata": {},
   "outputs": [],
   "source": [
    "from model.features import (\n",
    "    download_or_load_prices,\n",
    "    compute_features,\n",
    "    data_prep_and_feature_engineering,\n",
    ")\n",
    "from model.grid_search import run_grid_search\n",
    "from model.backtest import run_backtest\n",
    "\n",
    "print(\"downloaded!\")"
   ]
  },
  {
   "cell_type": "code",
   "execution_count": null,
   "id": "e9f49524-c200-4086-b97e-51d6b477fbd9",
   "metadata": {},
   "outputs": [],
   "source": [
    "start = dt.date(2015, 1, 1)\n",
    "end   = dt.date(2024, 7, 1)\n",
    "\n",
    "# --- download SPY close prices ---\n",
    "spy = download_or_load_prices(\n",
    "    [\"SPY\"],\n",
    "    Path(\"spy_cache.parquet\"),\n",
    "    start,\n",
    "    end\n",
    ")[\"Close\"].rename(\"SPY\")\n",
    "\n",
    "# --- download ^VIX close prices ---\n",
    "vix = download_or_load_prices(\n",
    "    [\"^VIX\"],\n",
    "    Path(\"vix_cache.parquet\"),\n",
    "    start,\n",
    "    end\n",
    ")[\"Close\"].rename(\"^VIX\")\n",
    "\n",
    "# --- combine into one DataFrame with plain columns ---\n",
    "market = pd.concat([spy, vix], axis=1)\n",
    "\n",
    "print(\"market columns ->\", market.columns.tolist())   # should be ['SPY', '^VIX']\n",
    "\n"
   ]
  },
  {
   "cell_type": "code",
   "execution_count": null,
   "id": "4a8903df-e75b-4f81-9ecc-c8587c7afc44",
   "metadata": {},
   "outputs": [],
   "source": [
    "# 1. raw prices for your ticker\n",
    "df_prices = download_or_load_prices(\n",
    "    [\"AAPL\"],\n",
    "    Path(\"price_cache.parquet\"),\n",
    "    start,\n",
    "    end\n",
    ")\n",
    "\n",
    "# 2. compute all features + target\n",
    "df_feat = compute_features(df_prices, market)\n",
    "\n",
    "# 3. build inputs for the next helper\n",
    "feature_list = [c for c in df_feat.columns if c != \"Target\"]  # list of feature names\n",
    "tickers      = [\"AAPL\"]                                       # list of tickers\n",
    "\n",
    "# 4. prepare training data (function returns X_train_sel, y_train)\n",
    "X_train, y_train = data_prep_and_feature_engineering(\n",
    "    tickers,\n",
    "    feature_list,\n",
    "    Path(\"feature_cache.parquet\"),\n",
    "    start,\n",
    "    end\n",
    ")\n",
    "\n",
    "print(\"X_train shape:\", X_train.shape, \"| y_train shape:\", y_train.shape)\n"
   ]
  },
  {
   "cell_type": "code",
   "execution_count": null,
   "id": "4596f80e-c17f-411d-b382-34718a4869d9",
   "metadata": {},
   "outputs": [],
   "source": [
    "# hyper‑parameter search\n",
    "best_params, best_model = run_grid_search(X_train, y_train)\n",
    "print(\"best params:\", best_params)\n",
    "\n",
    "# simple back‑test (use your own test split or walk‑forward logic if you prefer)\n",
    "results = run_backtest(best_model, X_train, y_train)\n",
    "results.head()\n"
   ]
  },
  {
   "cell_type": "code",
   "execution_count": null,
   "id": "f31db956-e964-4586-b5f5-20d20717419f",
   "metadata": {},
   "outputs": [],
   "source": [
    "\n"
   ]
  },
  {
   "cell_type": "code",
   "execution_count": null,
   "id": "80e06049-4c3c-4da1-a189-7c086395d227",
   "metadata": {},
   "outputs": [],
   "source": [
    "print(\"---------------------------------------\")"
   ]
  },
  {
   "cell_type": "code",
   "execution_count": null,
   "id": "666828d8-f908-42db-ae37-07938a7d97c0",
   "metadata": {},
   "outputs": [],
   "source": []
  },
  {
   "cell_type": "code",
   "execution_count": null,
   "id": "03e33f7b-6846-45ac-86e7-50f94a6fe654",
   "metadata": {},
   "outputs": [],
   "source": [
    "# ── add these two lines FIRST ───────────────────────────────────────────────\n",
    "import joblib\n",
    "import warnings; warnings.filterwarnings(\"ignore\", category=UserWarning); warnings.filterwarnings(\"ignore\", category=FutureWarning)\n",
    "# ────────────────────────────────────────────────────────────────────────────\n",
    "\n",
    "# 1) run the quiet grid‑search you already have\n",
    "best_params, best_model = run_grid_search(X_train, y_train)\n",
    "print(\"✅ best params:\", best_params)\n",
    "\n",
    "# 2) fit the RandomForest with only the RF‑compatible params\n",
    "rf_params = {k: v for k, v in best_params.items()\n",
    "             if k in {\"n_estimators\", \"max_depth\", \"max_features\",\n",
    "                      \"min_samples_split\", \"min_samples_leaf\"}}\n",
    "\n",
    "best_model = RandomForestClassifier(**rf_params,\n",
    "                                   n_jobs=-1,\n",
    "                                   random_state=42).fit(X_train, y_train)\n",
    "print(\"🔥  model fitted\")\n",
    "\n",
    "# 3) build bt_data exactly as before  (df_feat, idx_dates, proba …)\n",
    "# … your existing code that constructs `bt_data` …\n",
    "\n",
    "# 4) save artefact the way backtest.py expects\n",
    "art_path = Path(\"best_model.joblib\")\n",
    "joblib.dump({\"model\": best_model,\n",
    "             \"features\": X_train.columns.tolist(),\n",
    "             \"bt_data\": bt_data},\n",
    "            art_path)\n",
    "print(\"📦 artefact saved to\", art_path)\n",
    "\n",
    "# 5) run the back‑test (only a Path arg now)\n",
    "results = run_backtest(art_path)\n",
    "results.head()\n"
   ]
  },
  {
   "cell_type": "code",
   "execution_count": null,
   "id": "3d9a68cc-c6d1-472f-9e5e-2ec1d395001b",
   "metadata": {},
   "outputs": [],
   "source": []
  }
 ],
 "metadata": {
  "kernelspec": {
   "display_name": "Python 3 (ipykernel)",
   "language": "python",
   "name": "python3"
  },
  "language_info": {
   "codemirror_mode": {
    "name": "ipython",
    "version": 3
   },
   "file_extension": ".py",
   "mimetype": "text/x-python",
   "name": "python",
   "nbconvert_exporter": "python",
   "pygments_lexer": "ipython3",
   "version": "3.11.4"
  }
 },
 "nbformat": 4,
 "nbformat_minor": 5
}
