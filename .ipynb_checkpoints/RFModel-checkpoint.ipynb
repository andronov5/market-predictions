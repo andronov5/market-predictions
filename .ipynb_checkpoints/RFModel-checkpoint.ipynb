{
 "cells": [
  {
   "cell_type": "code",
   "execution_count": 2,
   "id": "41017784-249d-4dff-9673-807bd471fd58",
   "metadata": {},
   "outputs": [
    {
     "name": "stdout",
     "output_type": "stream",
     "text": [
      "C:\\Users\\17012\\Desktop\\market-predictions\n",
      "True\n",
      "print!\n"
     ]
    }
   ],
   "source": [
    "##CHECK THAT NOTEBOOK IS IN THE CORRECT LOCATION\n",
    "import pathlib, sys\n",
    "print(pathlib.Path().resolve())          # should end in market-predictions\n",
    "print((pathlib.Path(\"model\")).exists())  # True  -> import will work\n",
    "\n",
    "print(\"print!\")"
   ]
  },
  {
   "cell_type": "code",
   "execution_count": 3,
   "id": "2b67e9cf-284e-444e-a045-536bfb6c7ae9",
   "metadata": {},
   "outputs": [
    {
     "name": "stdout",
     "output_type": "stream",
     "text": [
      "Note: you may need to restart the kernel to use updated packages.\n",
      "all done!\n"
     ]
    }
   ],
   "source": [
    "#IMPORT ALL NECCESSARY NOTEBOOKS\n",
    "%pip install --quiet \\\n",
    "    backoff gspread google-auth google-auth-httplib2 \\\n",
    "    joblib lightgbm matplotlib numpy optuna pandas scikit-learn \\\n",
    "    ta vectorbt xgboost yfinance plotly kaleido\n",
    "\n",
    "print(\"all done!\")"
   ]
  },
  {
   "cell_type": "code",
   "execution_count": 4,
   "id": "a009989c-5c5e-45c8-bd38-092a00ad12d0",
   "metadata": {},
   "outputs": [
    {
     "name": "stdout",
     "output_type": "stream",
     "text": [
      "Requirement already satisfied: pyarrow in c:\\users\\17012\\desktop\\market-predictions\\.venv312\\lib\\site-packages (21.0.0)\n",
      "Note: you may need to restart the kernel to use updated packages.\n",
      "good!\n"
     ]
    }
   ],
   "source": [
    "#pyarrow install\n",
    "%pip install pyarrow\n",
    "print(\"good!\")"
   ]
  },
  {
   "cell_type": "code",
   "execution_count": 5,
   "id": "4be88549-748e-400c-9a72-b5b416ffb7fd",
   "metadata": {},
   "outputs": [
    {
     "name": "stdout",
     "output_type": "stream",
     "text": [
      "lets go->\n"
     ]
    }
   ],
   "source": [
    "#----------------------------------------------\n",
    "#Program begins\n",
    "print(\"lets go->\")"
   ]
  },
  {
   "cell_type": "code",
   "execution_count": 6,
   "id": "b3063141-e71c-428e-8f26-64a8bcc69eda",
   "metadata": {},
   "outputs": [
    {
     "name": "stdout",
     "output_type": "stream",
     "text": [
      "downloaded!!\n"
     ]
    }
   ],
   "source": [
    "from model.features import (\n",
    "    download_or_load_prices,\n",
    "    compute_features,\n",
    "    data_prep_and_feature_engineering,\n",
    ")\n",
    "from model.grid_search import run_grid_search\n",
    "from model.backtest import run_backtest\n",
    "\n",
    "print(\"downloaded!!\")"
   ]
  },
  {
   "cell_type": "code",
   "execution_count": 26,
   "id": "100c7f4a-aa20-4ca9-bb30-9506daddfdd4",
   "metadata": {},
   "outputs": [
    {
     "name": "stderr",
     "output_type": "stream",
     "text": [
      "C:\\Users\\17012\\Desktop\\market-predictions\\model\\features.py:39: UserWarning: Could not infer format, so each element will be parsed individually, falling back to `dateutil`. To ensure parsing is consistent and as-expected, please specify a format.\n",
      "  lvl0 = pd.to_datetime(df.index.get_level_values(0), errors=\"coerce\")\n",
      "C:\\Users\\17012\\Desktop\\market-predictions\\model\\features.py:27: FutureWarning: YF.download() has changed argument auto_adjust default to True\n",
      "  raw = yf.download(\n"
     ]
    },
    {
     "name": "stdout",
     "output_type": "stream",
     "text": [
      "market columns: ['Open', 'High', 'Low', 'Close', 'Volume']\n",
      ":)\n"
     ]
    }
   ],
   "source": [
    "import datetime as dt\n",
    "from pathlib import Path\n",
    "import pandas as pd\n",
    "\n",
    "start = dt.date(2015, 1, 1)\n",
    "end   = dt.date(2024, 7, 1)\n",
    "\n",
    "# download / load benchmark tickers\n",
    "market = download_or_load_prices(\n",
    "    [\"SPY\", \"^VIX\"],\n",
    "    Path(\"market_cache.parquet\"),\n",
    "    start,\n",
    "    end\n",
    ")\n",
    "\n",
    "# flatten Multi‑Index -> simple columns\n",
    "market = market[\"Close\"] if isinstance(market.columns, pd.MultiIndex) else market\n",
    "market.columns = market.columns.rename(None)          # now ['SPY', '^VIX']\n",
    "\n",
    "print(\"market columns:\", market.columns.tolist())\n",
    "\n",
    "print(\":)\")"
   ]
  },
  {
   "cell_type": "code",
   "execution_count": 19,
   "id": "eda77974-96b7-4519-a2cd-43e87855ba92",
   "metadata": {},
   "outputs": [
    {
     "name": "stdout",
     "output_type": "stream",
     "text": [
      "market columns: ['SPY', '^VIX']\n"
     ]
    },
    {
     "name": "stderr",
     "output_type": "stream",
     "text": [
      "C:\\Users\\17012\\Desktop\\market-predictions\\model\\features.py:27: FutureWarning: YF.download() has changed argument auto_adjust default to True\n",
      "  raw = yf.download(\n",
      "C:\\Users\\17012\\Desktop\\market-predictions\\model\\features.py:27: FutureWarning: YF.download() has changed argument auto_adjust default to True\n",
      "  raw = yf.download(\n"
     ]
    }
   ],
   "source": [
    "import datetime as dt\n",
    "from pathlib import Path\n",
    "import pandas as pd\n",
    "\n",
    "# ----- download SPY close prices -----\n",
    "spy = download_or_load_prices(\n",
    "    [\"SPY\"],\n",
    "    Path(\"spy_cache.parquet\"),\n",
    "    dt.date(2015, 1, 1),\n",
    "    dt.date(2024, 7, 1)\n",
    ")[\"Close\"]          # take only the Close column\n",
    "\n",
    "# ----- download ^VIX close prices -----\n",
    "vix = download_or_load_prices(\n",
    "    [\"^VIX\"],\n",
    "    Path(\"vix_cache.parquet\"),\n",
    "    dt.date(2015, 1, 1),\n",
    "    dt.date(2024, 7, 1)\n",
    ")[\"Close\"]\n",
    "\n",
    "# ----- assemble the market dataframe -----\n",
    "market = pd.concat({\"SPY\": spy, \"^VIX\": vix}, axis=1)\n",
    "\n",
    "print(\"market columns:\", market.columns.tolist())   # should show ['SPY', '^VIX']\n"
   ]
  },
  {
   "cell_type": "code",
   "execution_count": 25,
   "id": "827faf9d-fdf8-4440-9c12-77a38408d0fb",
   "metadata": {},
   "outputs": [
    {
     "name": "stderr",
     "output_type": "stream",
     "text": [
      "C:\\Users\\17012\\Desktop\\market-predictions\\model\\features.py:27: FutureWarning: YF.download() has changed argument auto_adjust default to True\n",
      "  raw = yf.download(\n",
      "C:\\Users\\17012\\Desktop\\market-predictions\\model\\features.py:91: FutureWarning: The default fill_method='pad' in Series.pct_change is deprecated and will be removed in a future version. Either fill in any non-leading NA values prior to calling pct_change or specify 'fill_method=None' to not fill NA values.\n",
      "  df[\"VIX_Change\"] = vix.pct_change(5)\n",
      "C:\\Users\\17012\\Desktop\\market-predictions\\model\\features.py:39: UserWarning: Could not infer format, so each element will be parsed individually, falling back to `dateutil`. To ensure parsing is consistent and as-expected, please specify a format.\n",
      "  lvl0 = pd.to_datetime(df.index.get_level_values(0), errors=\"coerce\")\n",
      "C:\\Users\\17012\\Desktop\\market-predictions\\model\\features.py:27: FutureWarning: YF.download() has changed argument auto_adjust default to True\n",
      "  raw = yf.download(\n"
     ]
    },
    {
     "ename": "ValueError",
     "evalue": "not enough values to unpack (expected 4, got 2)",
     "output_type": "error",
     "traceback": [
      "\u001b[31m---------------------------------------------------------------------------\u001b[39m",
      "\u001b[31mValueError\u001b[39m                                Traceback (most recent call last)",
      "\u001b[36mCell\u001b[39m\u001b[36m \u001b[39m\u001b[32mIn[25]\u001b[39m\u001b[32m, line 29\u001b[39m\n\u001b[32m     26\u001b[39m tickers = [\u001b[33m\"\u001b[39m\u001b[33mAAPL\u001b[39m\u001b[33m\"\u001b[39m]\n\u001b[32m     28\u001b[39m \u001b[38;5;66;03m# 6️⃣  prepare train / test sets\u001b[39;00m\n\u001b[32m---> \u001b[39m\u001b[32m29\u001b[39m X_train, X_test, y_train, y_test = data_prep_and_feature_engineering(\n\u001b[32m     30\u001b[39m     tickers,                      \u001b[38;5;66;03m# <-- first arg: list\u001b[39;00m\n\u001b[32m     31\u001b[39m     feature_list,                 \u001b[38;5;66;03m# <-- second: list of feature names\u001b[39;00m\n\u001b[32m     32\u001b[39m     Path(\u001b[33m\"\u001b[39m\u001b[33mfeature_cache.parquet\u001b[39m\u001b[33m\"\u001b[39m),\n\u001b[32m     33\u001b[39m     start,\n\u001b[32m     34\u001b[39m     end\n\u001b[32m     35\u001b[39m )\n\u001b[32m     37\u001b[39m \u001b[38;5;28mprint\u001b[39m(\u001b[33m\"\u001b[39m\u001b[33mpipeline reached train/test split with no errors\u001b[39m\u001b[33m\"\u001b[39m)\n\u001b[32m     40\u001b[39m \u001b[38;5;28mprint\u001b[39m(\u001b[33m\"\u001b[39m\u001b[33mall done!\u001b[39m\u001b[33m\"\u001b[39m)\n",
      "\u001b[31mValueError\u001b[39m: not enough values to unpack (expected 4, got 2)"
     ]
    }
   ],
   "source": [
    "from pathlib import Path\n",
    "import datetime as dt\n",
    "import pandas as pd\n",
    "\n",
    "start = dt.date(2015, 1, 1)\n",
    "end   = dt.date(2024, 7, 1)\n",
    "\n",
    "# 1️⃣  market DataFrame (SPY & ^VIX) –– Cell A you already ran\n",
    "# variable name: market   (columns: ['SPY', '^VIX'])\n",
    "\n",
    "# 2️⃣  raw prices for your ticker\n",
    "df_prices = download_or_load_prices(\n",
    "    [\"AAPL\"],\n",
    "    Path(\"price_cache.parquet\"),\n",
    "    start,\n",
    "    end\n",
    ")\n",
    "\n",
    "# 3️⃣  feature engineering returns ONE DataFrame with 'Target'\n",
    "df_feat = compute_features(df_prices, market)\n",
    "\n",
    "# 4️⃣  list of feature column names (everything except 'Target')\n",
    "feature_list = [col for col in df_feat.columns if col != \"Target\"]\n",
    "\n",
    "# 5️⃣  list of tickers used\n",
    "tickers = [\"AAPL\"]\n",
    "\n",
    "# 6️⃣  prepare train / test sets\n",
    "X_train, X_test, y_train, y_test = data_prep_and_feature_engineering(\n",
    "    tickers,                      # <-- first arg: list\n",
    "    feature_list,                 # <-- second: list of feature names\n",
    "    Path(\"feature_cache.parquet\"),\n",
    "    start,\n",
    "    end\n",
    ")\n",
    "\n",
    "print(\"pipeline reached train/test split with no errors\")\n",
    "\n",
    "\n",
    "print(\"all done!\")"
   ]
  },
  {
   "cell_type": "code",
   "execution_count": 28,
   "id": "1a0b1ffd-f009-47c0-a38b-7caa420e5e80",
   "metadata": {},
   "outputs": [
    {
     "name": "stderr",
     "output_type": "stream",
     "text": [
      "C:\\Users\\17012\\Desktop\\market-predictions\\model\\features.py:27: FutureWarning: YF.download() has changed argument auto_adjust default to True\n",
      "  raw = yf.download(\n"
     ]
    },
    {
     "ename": "KeyError",
     "evalue": "'SPY'",
     "output_type": "error",
     "traceback": [
      "\u001b[31m---------------------------------------------------------------------------\u001b[39m",
      "\u001b[31mKeyError\u001b[39m                                  Traceback (most recent call last)",
      "\u001b[36mFile \u001b[39m\u001b[32m~\\Desktop\\market-predictions\\.venv312\\Lib\\site-packages\\pandas\\core\\indexes\\base.py:3812\u001b[39m, in \u001b[36mIndex.get_loc\u001b[39m\u001b[34m(self, key)\u001b[39m\n\u001b[32m   3811\u001b[39m \u001b[38;5;28;01mtry\u001b[39;00m:\n\u001b[32m-> \u001b[39m\u001b[32m3812\u001b[39m     \u001b[38;5;28;01mreturn\u001b[39;00m \u001b[38;5;28;43mself\u001b[39;49m\u001b[43m.\u001b[49m\u001b[43m_engine\u001b[49m\u001b[43m.\u001b[49m\u001b[43mget_loc\u001b[49m\u001b[43m(\u001b[49m\u001b[43mcasted_key\u001b[49m\u001b[43m)\u001b[49m\n\u001b[32m   3813\u001b[39m \u001b[38;5;28;01mexcept\u001b[39;00m \u001b[38;5;167;01mKeyError\u001b[39;00m \u001b[38;5;28;01mas\u001b[39;00m err:\n",
      "\u001b[36mFile \u001b[39m\u001b[32mpandas/_libs/index.pyx:167\u001b[39m, in \u001b[36mpandas._libs.index.IndexEngine.get_loc\u001b[39m\u001b[34m()\u001b[39m\n",
      "\u001b[36mFile \u001b[39m\u001b[32mpandas/_libs/index.pyx:196\u001b[39m, in \u001b[36mpandas._libs.index.IndexEngine.get_loc\u001b[39m\u001b[34m()\u001b[39m\n",
      "\u001b[36mFile \u001b[39m\u001b[32mpandas/_libs/hashtable_class_helper.pxi:7088\u001b[39m, in \u001b[36mpandas._libs.hashtable.PyObjectHashTable.get_item\u001b[39m\u001b[34m()\u001b[39m\n",
      "\u001b[36mFile \u001b[39m\u001b[32mpandas/_libs/hashtable_class_helper.pxi:7096\u001b[39m, in \u001b[36mpandas._libs.hashtable.PyObjectHashTable.get_item\u001b[39m\u001b[34m()\u001b[39m\n",
      "\u001b[31mKeyError\u001b[39m: 'SPY'",
      "\nThe above exception was the direct cause of the following exception:\n",
      "\u001b[31mKeyError\u001b[39m                                  Traceback (most recent call last)",
      "\u001b[36mCell\u001b[39m\u001b[36m \u001b[39m\u001b[32mIn[28]\u001b[39m\u001b[32m, line 10\u001b[39m\n\u001b[32m      2\u001b[39m df_prices = download_or_load_prices(\n\u001b[32m      3\u001b[39m     [\u001b[33m\"\u001b[39m\u001b[33mAAPL\u001b[39m\u001b[33m\"\u001b[39m],\n\u001b[32m      4\u001b[39m     Path(\u001b[33m\"\u001b[39m\u001b[33mprice_cache.parquet\u001b[39m\u001b[33m\"\u001b[39m),\n\u001b[32m      5\u001b[39m     start,\n\u001b[32m      6\u001b[39m     end\n\u001b[32m      7\u001b[39m )\n\u001b[32m      9\u001b[39m \u001b[38;5;66;03m# 2.  compute all features + 'Target'\u001b[39;00m\n\u001b[32m---> \u001b[39m\u001b[32m10\u001b[39m df_feat = \u001b[43mcompute_features\u001b[49m\u001b[43m(\u001b[49m\u001b[43mdf_prices\u001b[49m\u001b[43m,\u001b[49m\u001b[43m \u001b[49m\u001b[43mmarket\u001b[49m\u001b[43m)\u001b[49m          \u001b[38;5;66;03m# ONE DataFrame returned\u001b[39;00m\n\u001b[32m     12\u001b[39m \u001b[38;5;66;03m# 3.  create the inputs for the next stage\u001b[39;00m\n\u001b[32m     13\u001b[39m feature_list = [col \u001b[38;5;28;01mfor\u001b[39;00m col \u001b[38;5;129;01min\u001b[39;00m df_feat.columns \u001b[38;5;28;01mif\u001b[39;00m col != \u001b[33m\"\u001b[39m\u001b[33mTarget\u001b[39m\u001b[33m\"\u001b[39m]\n",
      "\u001b[36mFile \u001b[39m\u001b[32m~\\Desktop\\market-predictions\\model\\features.py:87\u001b[39m, in \u001b[36mcompute_features\u001b[39m\u001b[34m(df, market, lookahead_days, target_pct)\u001b[39m\n\u001b[32m     85\u001b[39m df[\u001b[33m\"\u001b[39m\u001b[33mVolatility_10d\u001b[39m\u001b[33m\"\u001b[39m] = df[\u001b[33m\"\u001b[39m\u001b[33mClose\u001b[39m\u001b[33m\"\u001b[39m].pct_change().rolling(\u001b[32m10\u001b[39m).std()\n\u001b[32m     86\u001b[39m df[\u001b[33m\"\u001b[39m\u001b[33mVolatility_20d\u001b[39m\u001b[33m\"\u001b[39m] = df[\u001b[33m\"\u001b[39m\u001b[33mClose\u001b[39m\u001b[33m\"\u001b[39m].pct_change().rolling(\u001b[32m20\u001b[39m).std()\n\u001b[32m---> \u001b[39m\u001b[32m87\u001b[39m spy = \u001b[43mmarket\u001b[49m\u001b[43m[\u001b[49m\u001b[33;43m\"\u001b[39;49m\u001b[33;43mSPY\u001b[39;49m\u001b[33;43m\"\u001b[39;49m\u001b[43m]\u001b[49m.reindex(df.index).ffill()\n\u001b[32m     88\u001b[39m vix = market[\u001b[33m\"\u001b[39m\u001b[33m^VIX\u001b[39m\u001b[33m\"\u001b[39m].reindex(df.index).ffill()\n\u001b[32m     89\u001b[39m df[\u001b[33m\"\u001b[39m\u001b[33mSPY_Trend\u001b[39m\u001b[33m\"\u001b[39m] = (spy > spy.rolling(\u001b[32m20\u001b[39m).mean()).astype(\u001b[38;5;28mint\u001b[39m)\n",
      "\u001b[36mFile \u001b[39m\u001b[32m~\\Desktop\\market-predictions\\.venv312\\Lib\\site-packages\\pandas\\core\\frame.py:4107\u001b[39m, in \u001b[36mDataFrame.__getitem__\u001b[39m\u001b[34m(self, key)\u001b[39m\n\u001b[32m   4105\u001b[39m \u001b[38;5;28;01mif\u001b[39;00m \u001b[38;5;28mself\u001b[39m.columns.nlevels > \u001b[32m1\u001b[39m:\n\u001b[32m   4106\u001b[39m     \u001b[38;5;28;01mreturn\u001b[39;00m \u001b[38;5;28mself\u001b[39m._getitem_multilevel(key)\n\u001b[32m-> \u001b[39m\u001b[32m4107\u001b[39m indexer = \u001b[38;5;28;43mself\u001b[39;49m\u001b[43m.\u001b[49m\u001b[43mcolumns\u001b[49m\u001b[43m.\u001b[49m\u001b[43mget_loc\u001b[49m\u001b[43m(\u001b[49m\u001b[43mkey\u001b[49m\u001b[43m)\u001b[49m\n\u001b[32m   4108\u001b[39m \u001b[38;5;28;01mif\u001b[39;00m is_integer(indexer):\n\u001b[32m   4109\u001b[39m     indexer = [indexer]\n",
      "\u001b[36mFile \u001b[39m\u001b[32m~\\Desktop\\market-predictions\\.venv312\\Lib\\site-packages\\pandas\\core\\indexes\\base.py:3819\u001b[39m, in \u001b[36mIndex.get_loc\u001b[39m\u001b[34m(self, key)\u001b[39m\n\u001b[32m   3814\u001b[39m     \u001b[38;5;28;01mif\u001b[39;00m \u001b[38;5;28misinstance\u001b[39m(casted_key, \u001b[38;5;28mslice\u001b[39m) \u001b[38;5;129;01mor\u001b[39;00m (\n\u001b[32m   3815\u001b[39m         \u001b[38;5;28misinstance\u001b[39m(casted_key, abc.Iterable)\n\u001b[32m   3816\u001b[39m         \u001b[38;5;129;01mand\u001b[39;00m \u001b[38;5;28many\u001b[39m(\u001b[38;5;28misinstance\u001b[39m(x, \u001b[38;5;28mslice\u001b[39m) \u001b[38;5;28;01mfor\u001b[39;00m x \u001b[38;5;129;01min\u001b[39;00m casted_key)\n\u001b[32m   3817\u001b[39m     ):\n\u001b[32m   3818\u001b[39m         \u001b[38;5;28;01mraise\u001b[39;00m InvalidIndexError(key)\n\u001b[32m-> \u001b[39m\u001b[32m3819\u001b[39m     \u001b[38;5;28;01mraise\u001b[39;00m \u001b[38;5;167;01mKeyError\u001b[39;00m(key) \u001b[38;5;28;01mfrom\u001b[39;00m\u001b[38;5;250m \u001b[39m\u001b[34;01merr\u001b[39;00m\n\u001b[32m   3820\u001b[39m \u001b[38;5;28;01mexcept\u001b[39;00m \u001b[38;5;167;01mTypeError\u001b[39;00m:\n\u001b[32m   3821\u001b[39m     \u001b[38;5;66;03m# If we have a listlike key, _check_indexing_error will raise\u001b[39;00m\n\u001b[32m   3822\u001b[39m     \u001b[38;5;66;03m#  InvalidIndexError. Otherwise we fall through and re-raise\u001b[39;00m\n\u001b[32m   3823\u001b[39m     \u001b[38;5;66;03m#  the TypeError.\u001b[39;00m\n\u001b[32m   3824\u001b[39m     \u001b[38;5;28mself\u001b[39m._check_indexing_error(key)\n",
      "\u001b[31mKeyError\u001b[39m: 'SPY'"
     ]
    }
   ],
   "source": [
    "# 1.  raw prices for your ticker(s)\n",
    "df_prices = download_or_load_prices(\n",
    "    [\"AAPL\"],\n",
    "    Path(\"price_cache.parquet\"),\n",
    "    start,\n",
    "    end\n",
    ")\n",
    "\n",
    "# 2.  compute all features + 'Target'\n",
    "df_feat = compute_features(df_prices, market)          # ONE DataFrame returned\n",
    "\n",
    "# 3.  create the inputs for the next stage\n",
    "feature_list = [col for col in df_feat.columns if col != \"Target\"]\n",
    "tickers      = [\"AAPL\"]\n",
    "\n",
    "# 4.  prepare training data (this helper returns X_train_sel, y_train)\n",
    "X_train, y_train = data_prep_and_feature_engineering(\n",
    "    tickers,                      # first arg  → list of tickers\n",
    "    feature_list,                 # second arg → list of feature names\n",
    "    Path(\"feature_cache.parquet\"),# cache file for processed set\n",
    "    start,\n",
    "    end\n",
    ")\n",
    "\n",
    "print(\"X_train shape:\", X_train.shape, \"| y_train shape:\", y_train.shape)\n"
   ]
  },
  {
   "cell_type": "code",
   "execution_count": 27,
   "id": "1688ce38-4f27-4687-9aa8-e4cfc30e301b",
   "metadata": {},
   "outputs": [
    {
     "name": "stderr",
     "output_type": "stream",
     "text": [
      "C:\\Users\\17012\\Desktop\\market-predictions\\model\\features.py:27: FutureWarning: YF.download() has changed argument auto_adjust default to True\n",
      "  raw = yf.download(\n"
     ]
    },
    {
     "ename": "KeyError",
     "evalue": "'SPY'",
     "output_type": "error",
     "traceback": [
      "\u001b[31m---------------------------------------------------------------------------\u001b[39m",
      "\u001b[31mKeyError\u001b[39m                                  Traceback (most recent call last)",
      "\u001b[36mFile \u001b[39m\u001b[32m~\\Desktop\\market-predictions\\.venv312\\Lib\\site-packages\\pandas\\core\\indexes\\base.py:3812\u001b[39m, in \u001b[36mIndex.get_loc\u001b[39m\u001b[34m(self, key)\u001b[39m\n\u001b[32m   3811\u001b[39m \u001b[38;5;28;01mtry\u001b[39;00m:\n\u001b[32m-> \u001b[39m\u001b[32m3812\u001b[39m     \u001b[38;5;28;01mreturn\u001b[39;00m \u001b[38;5;28;43mself\u001b[39;49m\u001b[43m.\u001b[49m\u001b[43m_engine\u001b[49m\u001b[43m.\u001b[49m\u001b[43mget_loc\u001b[49m\u001b[43m(\u001b[49m\u001b[43mcasted_key\u001b[49m\u001b[43m)\u001b[49m\n\u001b[32m   3813\u001b[39m \u001b[38;5;28;01mexcept\u001b[39;00m \u001b[38;5;167;01mKeyError\u001b[39;00m \u001b[38;5;28;01mas\u001b[39;00m err:\n",
      "\u001b[36mFile \u001b[39m\u001b[32mpandas/_libs/index.pyx:167\u001b[39m, in \u001b[36mpandas._libs.index.IndexEngine.get_loc\u001b[39m\u001b[34m()\u001b[39m\n",
      "\u001b[36mFile \u001b[39m\u001b[32mpandas/_libs/index.pyx:196\u001b[39m, in \u001b[36mpandas._libs.index.IndexEngine.get_loc\u001b[39m\u001b[34m()\u001b[39m\n",
      "\u001b[36mFile \u001b[39m\u001b[32mpandas/_libs/hashtable_class_helper.pxi:7088\u001b[39m, in \u001b[36mpandas._libs.hashtable.PyObjectHashTable.get_item\u001b[39m\u001b[34m()\u001b[39m\n",
      "\u001b[36mFile \u001b[39m\u001b[32mpandas/_libs/hashtable_class_helper.pxi:7096\u001b[39m, in \u001b[36mpandas._libs.hashtable.PyObjectHashTable.get_item\u001b[39m\u001b[34m()\u001b[39m\n",
      "\u001b[31mKeyError\u001b[39m: 'SPY'",
      "\nThe above exception was the direct cause of the following exception:\n",
      "\u001b[31mKeyError\u001b[39m                                  Traceback (most recent call last)",
      "\u001b[36mCell\u001b[39m\u001b[36m \u001b[39m\u001b[32mIn[27]\u001b[39m\u001b[32m, line 10\u001b[39m\n\u001b[32m      2\u001b[39m df_prices = download_or_load_prices(\n\u001b[32m      3\u001b[39m     [\u001b[33m\"\u001b[39m\u001b[33mAAPL\u001b[39m\u001b[33m\"\u001b[39m],\n\u001b[32m      4\u001b[39m     Path(\u001b[33m\"\u001b[39m\u001b[33mprice_cache.parquet\u001b[39m\u001b[33m\"\u001b[39m),\n\u001b[32m      5\u001b[39m     start,\n\u001b[32m      6\u001b[39m     end\n\u001b[32m      7\u001b[39m )\n\u001b[32m      9\u001b[39m \u001b[38;5;66;03m# 2.  compute all features + 'Target'\u001b[39;00m\n\u001b[32m---> \u001b[39m\u001b[32m10\u001b[39m df_feat = \u001b[43mcompute_features\u001b[49m\u001b[43m(\u001b[49m\u001b[43mdf_prices\u001b[49m\u001b[43m,\u001b[49m\u001b[43m \u001b[49m\u001b[43mmarket\u001b[49m\u001b[43m)\u001b[49m          \u001b[38;5;66;03m# ONE DataFrame returned\u001b[39;00m\n\u001b[32m     12\u001b[39m \u001b[38;5;66;03m# 3.  create the inputs for the next stage\u001b[39;00m\n\u001b[32m     13\u001b[39m feature_list = [col \u001b[38;5;28;01mfor\u001b[39;00m col \u001b[38;5;129;01min\u001b[39;00m df_feat.columns \u001b[38;5;28;01mif\u001b[39;00m col != \u001b[33m\"\u001b[39m\u001b[33mTarget\u001b[39m\u001b[33m\"\u001b[39m]\n",
      "\u001b[36mFile \u001b[39m\u001b[32m~\\Desktop\\market-predictions\\model\\features.py:87\u001b[39m, in \u001b[36mcompute_features\u001b[39m\u001b[34m(df, market, lookahead_days, target_pct)\u001b[39m\n\u001b[32m     85\u001b[39m df[\u001b[33m\"\u001b[39m\u001b[33mVolatility_10d\u001b[39m\u001b[33m\"\u001b[39m] = df[\u001b[33m\"\u001b[39m\u001b[33mClose\u001b[39m\u001b[33m\"\u001b[39m].pct_change().rolling(\u001b[32m10\u001b[39m).std()\n\u001b[32m     86\u001b[39m df[\u001b[33m\"\u001b[39m\u001b[33mVolatility_20d\u001b[39m\u001b[33m\"\u001b[39m] = df[\u001b[33m\"\u001b[39m\u001b[33mClose\u001b[39m\u001b[33m\"\u001b[39m].pct_change().rolling(\u001b[32m20\u001b[39m).std()\n\u001b[32m---> \u001b[39m\u001b[32m87\u001b[39m spy = \u001b[43mmarket\u001b[49m\u001b[43m[\u001b[49m\u001b[33;43m\"\u001b[39;49m\u001b[33;43mSPY\u001b[39;49m\u001b[33;43m\"\u001b[39;49m\u001b[43m]\u001b[49m.reindex(df.index).ffill()\n\u001b[32m     88\u001b[39m vix = market[\u001b[33m\"\u001b[39m\u001b[33m^VIX\u001b[39m\u001b[33m\"\u001b[39m].reindex(df.index).ffill()\n\u001b[32m     89\u001b[39m df[\u001b[33m\"\u001b[39m\u001b[33mSPY_Trend\u001b[39m\u001b[33m\"\u001b[39m] = (spy > spy.rolling(\u001b[32m20\u001b[39m).mean()).astype(\u001b[38;5;28mint\u001b[39m)\n",
      "\u001b[36mFile \u001b[39m\u001b[32m~\\Desktop\\market-predictions\\.venv312\\Lib\\site-packages\\pandas\\core\\frame.py:4107\u001b[39m, in \u001b[36mDataFrame.__getitem__\u001b[39m\u001b[34m(self, key)\u001b[39m\n\u001b[32m   4105\u001b[39m \u001b[38;5;28;01mif\u001b[39;00m \u001b[38;5;28mself\u001b[39m.columns.nlevels > \u001b[32m1\u001b[39m:\n\u001b[32m   4106\u001b[39m     \u001b[38;5;28;01mreturn\u001b[39;00m \u001b[38;5;28mself\u001b[39m._getitem_multilevel(key)\n\u001b[32m-> \u001b[39m\u001b[32m4107\u001b[39m indexer = \u001b[38;5;28;43mself\u001b[39;49m\u001b[43m.\u001b[49m\u001b[43mcolumns\u001b[49m\u001b[43m.\u001b[49m\u001b[43mget_loc\u001b[49m\u001b[43m(\u001b[49m\u001b[43mkey\u001b[49m\u001b[43m)\u001b[49m\n\u001b[32m   4108\u001b[39m \u001b[38;5;28;01mif\u001b[39;00m is_integer(indexer):\n\u001b[32m   4109\u001b[39m     indexer = [indexer]\n",
      "\u001b[36mFile \u001b[39m\u001b[32m~\\Desktop\\market-predictions\\.venv312\\Lib\\site-packages\\pandas\\core\\indexes\\base.py:3819\u001b[39m, in \u001b[36mIndex.get_loc\u001b[39m\u001b[34m(self, key)\u001b[39m\n\u001b[32m   3814\u001b[39m     \u001b[38;5;28;01mif\u001b[39;00m \u001b[38;5;28misinstance\u001b[39m(casted_key, \u001b[38;5;28mslice\u001b[39m) \u001b[38;5;129;01mor\u001b[39;00m (\n\u001b[32m   3815\u001b[39m         \u001b[38;5;28misinstance\u001b[39m(casted_key, abc.Iterable)\n\u001b[32m   3816\u001b[39m         \u001b[38;5;129;01mand\u001b[39;00m \u001b[38;5;28many\u001b[39m(\u001b[38;5;28misinstance\u001b[39m(x, \u001b[38;5;28mslice\u001b[39m) \u001b[38;5;28;01mfor\u001b[39;00m x \u001b[38;5;129;01min\u001b[39;00m casted_key)\n\u001b[32m   3817\u001b[39m     ):\n\u001b[32m   3818\u001b[39m         \u001b[38;5;28;01mraise\u001b[39;00m InvalidIndexError(key)\n\u001b[32m-> \u001b[39m\u001b[32m3819\u001b[39m     \u001b[38;5;28;01mraise\u001b[39;00m \u001b[38;5;167;01mKeyError\u001b[39;00m(key) \u001b[38;5;28;01mfrom\u001b[39;00m\u001b[38;5;250m \u001b[39m\u001b[34;01merr\u001b[39;00m\n\u001b[32m   3820\u001b[39m \u001b[38;5;28;01mexcept\u001b[39;00m \u001b[38;5;167;01mTypeError\u001b[39;00m:\n\u001b[32m   3821\u001b[39m     \u001b[38;5;66;03m# If we have a listlike key, _check_indexing_error will raise\u001b[39;00m\n\u001b[32m   3822\u001b[39m     \u001b[38;5;66;03m#  InvalidIndexError. Otherwise we fall through and re-raise\u001b[39;00m\n\u001b[32m   3823\u001b[39m     \u001b[38;5;66;03m#  the TypeError.\u001b[39;00m\n\u001b[32m   3824\u001b[39m     \u001b[38;5;28mself\u001b[39m._check_indexing_error(key)\n",
      "\u001b[31mKeyError\u001b[39m: 'SPY'"
     ]
    }
   ],
   "source": [
    "\n",
    "\n",
    "# pull raw prices\n",
    "df_prices = download_or_load_prices(\n",
    "    [\"AAPL\"],\n",
    "    Path(\"price_cache.parquet\"),\n",
    "    dt.date(2015, 1, 1),\n",
    "    dt.date(2024, 7, 1)\n",
    ")\n",
    "\n",
    "# turn prices into model‑ready data\n",
    "X, y, *_ = compute_features(df_prices, market)\n",
    "\n",
    "X_train, X_test, y_train, y_test = data_prep_and_feature_engineering(\n",
    "    X,\n",
    "    y,\n",
    "    Path(\"feature_cache.parquet\"),   # cache file for the processed set\n",
    "    dt.date(2015, 1, 1),             # start date  (same as above)\n",
    "    dt.date(2024, 7, 1)              # end date    (same as above)\n",
    ")\n",
    "\n",
    "print(\"all done!\")"
   ]
  },
  {
   "cell_type": "code",
   "execution_count": null,
   "id": "e6052e80-08ad-4658-8ec9-0ad17ab1a0c2",
   "metadata": {},
   "outputs": [],
   "source": [
    "# search for best model settings\n",
    "best_params, best_model = run_grid_search(X_train, y_train)\n",
    "print(\"best parameters:\", best_params)\n",
    "\n",
    "# evaluate on the hold‑out set\n",
    "results = run_backtest(best_model, X_test, y_test)\n",
    "results.head()\n",
    "\n",
    "print(\"finished!\")"
   ]
  }
 ],
 "metadata": {
  "kernelspec": {
   "display_name": "Python 3 (ipykernel)",
   "language": "python",
   "name": "python3"
  },
  "language_info": {
   "codemirror_mode": {
    "name": "ipython",
    "version": 3
   },
   "file_extension": ".py",
   "mimetype": "text/x-python",
   "name": "python",
   "nbconvert_exporter": "python",
   "pygments_lexer": "ipython3",
   "version": "3.12.10"
  }
 },
 "nbformat": 4,
 "nbformat_minor": 5
}
